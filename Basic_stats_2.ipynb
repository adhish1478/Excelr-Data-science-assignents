{
 "cells": [
  {
   "cell_type": "code",
   "execution_count": 41,
   "id": "de85dced-2f4e-40cd-aa87-64991929763c",
   "metadata": {
    "tags": []
   },
   "outputs": [],
   "source": [
    "import numpy as np\n",
    "import pandas as pd\n",
    "from scipy.stats import t\n",
    "import math"
   ]
  },
  {
   "cell_type": "code",
   "execution_count": 42,
   "id": "d47e8489-e228-49fd-b6e7-aea5792968b8",
   "metadata": {
    "tags": []
   },
   "outputs": [],
   "source": [
    "data=np.array([1.13, 1.55, 1.43, 0.92, 1.25, 1.36, 1.32, 0.85, 1.07, 1.48, 1.20, 1.33, 1.18, 1.22, 1.29])"
   ]
  },
  {
   "cell_type": "code",
   "execution_count": 43,
   "id": "ca4cead8-c116-475c-8c23-6d8c7739b870",
   "metadata": {
    "tags": []
   },
   "outputs": [
    {
     "data": {
      "text/plain": [
       "array([1.13, 1.55, 1.43, 0.92, 1.25, 1.36, 1.32, 0.85, 1.07, 1.48, 1.2 ,\n",
       "       1.33, 1.18, 1.22, 1.29])"
      ]
     },
     "execution_count": 43,
     "metadata": {},
     "output_type": "execute_result"
    }
   ],
   "source": [
    "data"
   ]
  },
  {
   "cell_type": "code",
   "execution_count": 44,
   "id": "e81a9d5a-eb31-4dba-884e-0be8d50a0297",
   "metadata": {
    "tags": []
   },
   "outputs": [
    {
     "data": {
      "text/plain": [
       "1.2386666666666666"
      ]
     },
     "execution_count": 44,
     "metadata": {},
     "output_type": "execute_result"
    }
   ],
   "source": [
    "mean=np.mean(data)\n",
    "mean"
   ]
  },
  {
   "cell_type": "code",
   "execution_count": 45,
   "id": "ebb31351-7732-46f1-8e7e-4e3f37466078",
   "metadata": {
    "tags": []
   },
   "outputs": [
    {
     "data": {
      "text/plain": [
       "15"
      ]
     },
     "execution_count": 45,
     "metadata": {},
     "output_type": "execute_result"
    }
   ],
   "source": [
    "n=len(data)\n",
    "n"
   ]
  },
  {
   "cell_type": "markdown",
   "id": "1ae7120b-0a33-405a-b3a5-faa39a8fa57d",
   "metadata": {},
   "source": [
    "###### a. Build 99% Confidence Interval Using Sample Standard Deviation\n",
    " We use the t-distribution because the population standard deviation is unknown, and the sample size is small (n < 30)."
   ]
  },
  {
   "cell_type": "code",
   "execution_count": 46,
   "id": "d80e2445-b4a3-48f3-9363-5621380aef59",
   "metadata": {
    "tags": []
   },
   "outputs": [
    {
     "data": {
      "text/plain": [
       "0.19316412956959936"
      ]
     },
     "execution_count": 46,
     "metadata": {},
     "output_type": "execute_result"
    }
   ],
   "source": [
    "std=np.std(data,ddof=1)\n",
    "std"
   ]
  },
  {
   "cell_type": "code",
   "execution_count": 47,
   "id": "cb4944c2-146a-4518-a2aa-3800cc8948b7",
   "metadata": {
    "tags": []
   },
   "outputs": [],
   "source": [
    "confidence_interval=0.99\n",
    "df=n-1 # degree_of_freedom"
   ]
  },
  {
   "cell_type": "code",
   "execution_count": 48,
   "id": "433b6d7f-6b3f-4a8e-bc2a-e721d597c788",
   "metadata": {
    "tags": []
   },
   "outputs": [],
   "source": [
    "import scipy.stats as stats"
   ]
  },
  {
   "cell_type": "code",
   "execution_count": 49,
   "id": "c107df77-5966-45fc-814c-10ed1455195a",
   "metadata": {
    "tags": []
   },
   "outputs": [
    {
     "data": {
      "text/plain": [
       "2.97684273411266"
      ]
     },
     "execution_count": 49,
     "metadata": {},
     "output_type": "execute_result"
    }
   ],
   "source": [
    "t_critical=stats.t.ppf(1-(1-confidence_interval)/2,df)\n",
    "t_critical"
   ]
  },
  {
   "cell_type": "code",
   "execution_count": 50,
   "id": "ae7ef076-6c96-4a05-b06c-1a49756be23e",
   "metadata": {
    "tags": []
   },
   "outputs": [
    {
     "data": {
      "text/plain": [
       "0.04987476379384733"
      ]
     },
     "execution_count": 50,
     "metadata": {},
     "output_type": "execute_result"
    }
   ],
   "source": [
    "SE=std/math.sqrt(n)\n",
    "SE"
   ]
  },
  {
   "cell_type": "code",
   "execution_count": 51,
   "id": "5b89195b-94c9-4604-afbe-b2db859a51f6",
   "metadata": {
    "tags": []
   },
   "outputs": [
    {
     "data": {
      "text/plain": [
       "0.1484693282152996"
      ]
     },
     "execution_count": 51,
     "metadata": {},
     "output_type": "execute_result"
    }
   ],
   "source": [
    "margin_of_error=t_critical*SE\n",
    "margin_of_error"
   ]
  },
  {
   "cell_type": "code",
   "execution_count": 52,
   "id": "7dc76d9d-2f3b-4fc7-b153-b2214d2d991f",
   "metadata": {
    "tags": []
   },
   "outputs": [],
   "source": [
    "lower_bound=mean-margin_of_error\n",
    "upper_bound=mean+margin_of_error"
   ]
  },
  {
   "cell_type": "code",
   "execution_count": 53,
   "id": "89631357-4098-48d2-92e9-c205f5250713",
   "metadata": {
    "tags": []
   },
   "outputs": [
    {
     "name": "stdout",
     "output_type": "stream",
     "text": [
      "99% Confidence Interval using Sample Standard Deviation:\n",
      "Lower Bound:1.0902\n",
      "Upper Bound:1.3871\n"
     ]
    }
   ],
   "source": [
    "print(\"99% Confidence Interval using Sample Standard Deviation:\")\n",
    "print(f\"Lower Bound:{lower_bound:.4f}\")\n",
    "print(f\"Upper Bound:{upper_bound:.4f}\")"
   ]
  },
  {
   "cell_type": "markdown",
   "id": "1ffdf0c3-ad6c-4e20-8a04-39ccbc04708c",
   "metadata": {},
   "source": [
    "##### b. Build 99% Confidence Interval Using Known Population Standard Deviation\n",
    "The population standard deviation is 0.2 million characters is known, we can use the z-distribution to construct the confidence interval.we'll use the z-distribution to find the z_critical value."
   ]
  },
  {
   "cell_type": "code",
   "execution_count": 54,
   "id": "d13d0244-3370-44c2-bbb7-f1aae4d8a541",
   "metadata": {
    "tags": []
   },
   "outputs": [],
   "source": [
    "std_known=0.2\n",
    "confiedence_interval_known=0.99"
   ]
  },
  {
   "cell_type": "code",
   "execution_count": 55,
   "id": "383c8ca3-6be8-4910-8af3-4fb8def4c39b",
   "metadata": {
    "tags": []
   },
   "outputs": [
    {
     "data": {
      "text/plain": [
       "0.051639777949432225"
      ]
     },
     "execution_count": 55,
     "metadata": {},
     "output_type": "execute_result"
    }
   ],
   "source": [
    "SE_known_std=std_known/np.sqrt(n)\n",
    "SE_known_std"
   ]
  },
  {
   "cell_type": "code",
   "execution_count": 56,
   "id": "aae9794b-a821-406c-8c9f-1aa3e896792d",
   "metadata": {
    "tags": []
   },
   "outputs": [
    {
     "data": {
      "text/plain": [
       "2.5758293035489004"
      ]
     },
     "execution_count": 56,
     "metadata": {},
     "output_type": "execute_result"
    }
   ],
   "source": [
    "z_critical=stats.norm.ppf(1-(1-confiedence_interval_known)/2)\n",
    "z_critical"
   ]
  },
  {
   "cell_type": "code",
   "execution_count": 57,
   "id": "505b00c8-f8ec-4079-af05-0a684911229d",
   "metadata": {
    "tags": []
   },
   "outputs": [
    {
     "data": {
      "text/plain": [
       "0.13301525327090588"
      ]
     },
     "execution_count": 57,
     "metadata": {},
     "output_type": "execute_result"
    }
   ],
   "source": [
    "margin_of_error_std=SE_known_std*z_critical\n",
    "margin_of_error_std"
   ]
  },
  {
   "cell_type": "code",
   "execution_count": 58,
   "id": "3ca149b1-4b43-486d-81b7-291ff892ed09",
   "metadata": {
    "tags": []
   },
   "outputs": [],
   "source": [
    "lower_bound_known_std=mean-margin_of_error_std\n",
    "upper_bound_known_std=mean+margin_of_error_std"
   ]
  },
  {
   "cell_type": "code",
   "execution_count": 59,
   "id": "6d1bfd33-8537-4d94-8c47-b18249eaac96",
   "metadata": {
    "tags": []
   },
   "outputs": [
    {
     "name": "stdout",
     "output_type": "stream",
     "text": [
      "\n",
      "99% Confidence Interval Using Known Population Standard Deviation:\n",
      "Lower Bound:1.1057\n",
      "Upper Bound:1.3717\n"
     ]
    }
   ],
   "source": [
    "print(\"\\n99% Confidence Interval Using Known Population Standard Deviation:\")\n",
    "print(f\"Lower Bound:{lower_bound_known_std:.4f}\")\n",
    "print(f\"Upper Bound:{upper_bound_known_std:.4f}\")"
   ]
  },
  {
   "cell_type": "code",
   "execution_count": 60,
   "id": "23470cab-78f2-41eb-8212-31e134c4002c",
   "metadata": {
    "tags": []
   },
   "outputs": [
    {
     "name": "stdout",
     "output_type": "stream",
     "text": [
      "confidence interval for the mean number of charachters printed before failure:1.1057,1.3717\n"
     ]
    }
   ],
   "source": [
    "print(f\"confidence interval for the mean number of charachters printed before failure:{lower_bound_known_std:.4f},{upper_bound_known_std:.4f}\")"
   ]
  },
  {
   "cell_type": "code",
   "execution_count": null,
   "id": "d9b226a5-412a-4b40-a566-f56dd067bb68",
   "metadata": {},
   "outputs": [],
   "source": []
  }
 ],
 "metadata": {
  "kernelspec": {
   "display_name": "Python 3 (ipykernel)",
   "language": "python",
   "name": "python3"
  },
  "language_info": {
   "codemirror_mode": {
    "name": "ipython",
    "version": 3
   },
   "file_extension": ".py",
   "mimetype": "text/x-python",
   "name": "python",
   "nbconvert_exporter": "python",
   "pygments_lexer": "ipython3",
   "version": "3.11.5"
  }
 },
 "nbformat": 4,
 "nbformat_minor": 5
}
