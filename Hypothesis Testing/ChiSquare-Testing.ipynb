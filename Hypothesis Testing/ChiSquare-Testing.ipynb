{
 "cells": [
  {
   "cell_type": "markdown",
   "id": "aa79244e",
   "metadata": {},
   "source": [
    "# ChiSquare Testing"
   ]
  },
  {
   "cell_type": "code",
   "execution_count": 1,
   "id": "6f1eeae1",
   "metadata": {},
   "outputs": [],
   "source": [
    "import numpy as np\n",
    "import scipy.stats as stats"
   ]
  },
  {
   "cell_type": "code",
   "execution_count": 2,
   "id": "8cb235e9",
   "metadata": {},
   "outputs": [],
   "source": [
    "# Data provided in the contingency table\n",
    "observed = np.array([[50, 70], \n",
    "                     [80, 100], \n",
    "                     [60, 90], \n",
    "                     [30, 50], \n",
    "                     [20, 50]])"
   ]
  },
  {
   "cell_type": "code",
   "execution_count": 3,
   "id": "4365eb09",
   "metadata": {},
   "outputs": [],
   "source": [
    "# Perform the Chi-Square test\n",
    "chi2, p, dof, expected = stats.chi2_contingency(observed)"
   ]
  },
  {
   "cell_type": "code",
   "execution_count": 4,
   "id": "1922623f",
   "metadata": {},
   "outputs": [],
   "source": [
    "# Significance level\n",
    "alpha = 0.05"
   ]
  },
  {
   "cell_type": "code",
   "execution_count": 5,
   "id": "4442459d",
   "metadata": {},
   "outputs": [],
   "source": [
    "critical_value = stats.chi2.ppf(1 - alpha, dof)"
   ]
  },
  {
   "cell_type": "code",
   "execution_count": 6,
   "id": "d77b3051",
   "metadata": {},
   "outputs": [
    {
     "name": "stdout",
     "output_type": "stream",
     "text": [
      "Chi-Square Statistic: 5.638227513227513\n",
      "Degrees of Freedom: 4\n",
      "Critical Value: 9.487729036781154\n",
      "P-Value: 0.22784371130697179\n"
     ]
    }
   ],
   "source": [
    "print(f\"Chi-Square Statistic: {chi2}\")\n",
    "print(f\"Degrees of Freedom: {dof}\")\n",
    "print(f\"Critical Value: {critical_value}\")\n",
    "print(f\"P-Value: {p}\")"
   ]
  },
  {
   "cell_type": "code",
   "execution_count": 8,
   "id": "c39f8fe5",
   "metadata": {},
   "outputs": [
    {
     "name": "stdout",
     "output_type": "stream",
     "text": [
      "Fail to reject the null hypothesis - No association found between device type and customer satisfaction.\n"
     ]
    }
   ],
   "source": [
    "if chi2 > critical_value:\n",
    "    print(\"Reject the null hypothesis - There is an association between device type and customer satisfaction.\")\n",
    "else:\n",
    "    print(\"Fail to reject the null hypothesis - No association found between device type and customer satisfaction.\")"
   ]
  },
  {
   "cell_type": "markdown",
   "id": "c6085097",
   "metadata": {},
   "source": [
    "# Results of the Chi-Square Test\n",
    "#### Chi-Square Statistic (χ²): 5.638\n",
    "#### Degrees of Freedom (df): 4\n",
    "#### Critical Value: 9.488\n",
    "#### P-Value: 0.228\n",
    "#### Expected Frequencies:\n",
    "   #### Very Satisfied: 48,72\n",
    "   #### Satisfied: 72,108\n",
    "   #### Neutral: 60,90\n",
    "   #### Unsatisfied: 32,48\n",
    "   #### Very Unsatisfied: 28,42\n",
    "\n",
    "# Conclusion\n",
    "#### Chi-Square Statistic vs. Critical Value: The Chi-Square statistic (5.638) is less than the critical value (9.488).This means that we fail to reject the null hypothesis.\n",
    "\n",
    "#### P-Value: The p-value (0.228) is greater than the significance level (0.05). This also supports the decision to fail to reject the null hypothesis.\n",
    "\n",
    "# Final Decision\n",
    "#### There is no significant association between the type of smart home device purchased (Smart Thermostat or Smart Light) and the customer's satisfaction level. The satisfaction level appears to be independent of the type of device.\n",
    "\n",
    "# Implications\n",
    "#### Mizzare Corporation might conclude that other factors, unrelated to the type of device, are influencing customer satisfaction. They may want to investigate other aspects, such as price, ease of use, or customer support, to better understand what drives customer satisfaction."
   ]
  },
  {
   "cell_type": "code",
   "execution_count": null,
   "id": "6a2ec14f",
   "metadata": {},
   "outputs": [],
   "source": []
  }
 ],
 "metadata": {
  "kernelspec": {
   "display_name": "Python 3 (ipykernel)",
   "language": "python",
   "name": "python3"
  },
  "language_info": {
   "codemirror_mode": {
    "name": "ipython",
    "version": 3
   },
   "file_extension": ".py",
   "mimetype": "text/x-python",
   "name": "python",
   "nbconvert_exporter": "python",
   "pygments_lexer": "ipython3",
   "version": "3.11.5"
  }
 },
 "nbformat": 4,
 "nbformat_minor": 5
}
