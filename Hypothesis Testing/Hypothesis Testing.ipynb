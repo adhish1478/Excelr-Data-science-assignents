{
 "cells": [
  {
   "cell_type": "markdown",
   "id": "cec8b682",
   "metadata": {},
   "source": [
    "# Hypothesis Testing"
   ]
  },
  {
   "cell_type": "code",
   "execution_count": 1,
   "id": "6a7c4d30",
   "metadata": {},
   "outputs": [],
   "source": [
    "import math\n",
    "from scipy.stats import norm"
   ]
  },
  {
   "cell_type": "code",
   "execution_count": 2,
   "id": "a96affee",
   "metadata": {},
   "outputs": [],
   "source": [
    "sample_mean = 3050\n",
    "theoretical_mean = 1000 + 5 * 600  # W = 1000 + 5 * X, X = 600\n",
    "sigma = 5 * 25  # σ = 5 * 25 units\n",
    "n = 25  # sample size\n",
    "alpha = 0.05  # significance level"
   ]
  },
  {
   "cell_type": "code",
   "execution_count": 3,
   "id": "d02e2cc2",
   "metadata": {},
   "outputs": [],
   "source": [
    "# Calculate the test statistic\n",
    "standard_error = sigma / math.sqrt(n)\n",
    "t_statistic = (sample_mean - theoretical_mean) / standard_error"
   ]
  },
  {
   "cell_type": "code",
   "execution_count": 4,
   "id": "cf54cc39",
   "metadata": {},
   "outputs": [],
   "source": [
    "# Determine the critical value from the standard normal distribution table\n",
    "critical_value = norm.ppf(1 - alpha)"
   ]
  },
  {
   "cell_type": "code",
   "execution_count": 5,
   "id": "c799ed0d",
   "metadata": {},
   "outputs": [],
   "source": [
    "if t_statistic > critical_value:\n",
    "    decision = \"Reject the null hypothesis\"\n",
    "else:\n",
    "    decision = \"Do not reject the null hypothesis\""
   ]
  },
  {
   "cell_type": "code",
   "execution_count": 6,
   "id": "d9abc122",
   "metadata": {},
   "outputs": [
    {
     "name": "stdout",
     "output_type": "stream",
     "text": [
      "Sample Mean: 3050\n",
      "Theoretical Mean: 4000\n",
      "Standard Error: 25.0\n",
      "Test Statistic (t): -38.0\n",
      "Critical Value (Z): 1.6448536269514722\n",
      "Decision: Do not reject the null hypothesis\n"
     ]
    }
   ],
   "source": [
    "print(f\"Sample Mean: {sample_mean}\")\n",
    "print(f\"Theoretical Mean: {theoretical_mean}\")\n",
    "print(f\"Standard Error: {standard_error}\")\n",
    "print(f\"Test Statistic (t): {t_statistic}\")\n",
    "print(f\"Critical Value (Z): {critical_value}\")\n",
    "print(f\"Decision: {decision}\")"
   ]
  },
  {
   "cell_type": "markdown",
   "id": "58787b50",
   "metadata": {},
   "source": [
    "# Conclusion:\n",
    "## Based on the hypothesis test conducted:\n",
    "\n",
    "#### The calculated test statistic was t=−38, which is significantly lower than the critical value of Z=1.645 at a 5% significance level.\n",
    "\n",
    "#### Since the test statistic does not fall within the critical region (i.e., it is not greater than the critical value), we do not have sufficient evidence to reject the null hypothesis.\n",
    "\n",
    "\n",
    "#### Conclusion: There is not strong evidence to support the restaurant owners' claim that the weekly operating costs are higher than the theoretical model suggests. The observed mean weekly cost of Rs. 3050 does not significantly deviate from the expected cost based on the model W=1000+5X for X=600 units. Therefore, it is reasonable to conclude that the theoretical cost model is still valid."
   ]
  },
  {
   "cell_type": "code",
   "execution_count": null,
   "id": "7722f99e",
   "metadata": {},
   "outputs": [],
   "source": []
  }
 ],
 "metadata": {
  "kernelspec": {
   "display_name": "Python 3 (ipykernel)",
   "language": "python",
   "name": "python3"
  },
  "language_info": {
   "codemirror_mode": {
    "name": "ipython",
    "version": 3
   },
   "file_extension": ".py",
   "mimetype": "text/x-python",
   "name": "python",
   "nbconvert_exporter": "python",
   "pygments_lexer": "ipython3",
   "version": "3.11.5"
  }
 },
 "nbformat": 4,
 "nbformat_minor": 5
}
