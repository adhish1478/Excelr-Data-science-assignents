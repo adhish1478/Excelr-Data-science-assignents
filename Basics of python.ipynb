{
 "cells": [
  {
   "cell_type": "markdown",
   "id": "7f1665e0",
   "metadata": {},
   "source": [
    "# 1. Prime numbers\n"
   ]
  },
  {
   "cell_type": "code",
   "execution_count": 19,
   "id": "bc8e286f",
   "metadata": {},
   "outputs": [
    {
     "name": "stdout",
     "output_type": "stream",
     "text": [
      "enter number:9\n",
      "composite number\n"
     ]
    }
   ],
   "source": [
    "def prime(n):\n",
    "                flag=0\n",
    "                if n!=1:\n",
    "                    for i in range(2,n):\n",
    "                        if n%i==0:\n",
    "                            flag=1\n",
    "                            break\n",
    "                    if flag==1:\n",
    "                        print('composite number')\n",
    "                    else:\n",
    "                        print('prime number')\n",
    "                else:\n",
    "                    print('enter number other than 1')\n",
    "a= int(input(\"enter number:\"))\n",
    "prime(a)"
   ]
  },
  {
   "cell_type": "markdown",
   "id": "ce9b97e2",
   "metadata": {},
   "source": [
    "# 2. Product of random numbers"
   ]
  },
  {
   "cell_type": "code",
   "execution_count": 29,
   "id": "096885dc",
   "metadata": {},
   "outputs": [
    {
     "name": "stdout",
     "output_type": "stream",
     "text": [
      "enter product of 37 and 86\n",
      "3182\n",
      "True\n"
     ]
    }
   ],
   "source": [
    "import numpy as np\n",
    "a= np.random.randint(100)\n",
    "b= np.random.randint(100)\n",
    "\n",
    "print(f'enter product of {a} and {b}')\n",
    "c= int(input())\n",
    "\n",
    "if c==a*b:\n",
    "    print('True')\n",
    "else:\n",
    "    print('False')"
   ]
  },
  {
   "cell_type": "markdown",
   "id": "b1046ddb",
   "metadata": {},
   "source": [
    "# 3. Squares of even/odd numbers"
   ]
  },
  {
   "cell_type": "code",
   "execution_count": 33,
   "id": "219ea827",
   "metadata": {},
   "outputs": [
    {
     "name": "stdout",
     "output_type": "stream",
     "text": [
      "enter 1 for odd or 2 for even numbers2\n",
      "{100: 10000, 102: 10404, 104: 10816, 106: 11236, 108: 11664, 110: 12100, 112: 12544, 114: 12996, 116: 13456, 118: 13924, 120: 14400, 122: 14884, 124: 15376, 126: 15876, 128: 16384, 130: 16900, 132: 17424, 134: 17956, 136: 18496, 138: 19044, 140: 19600, 142: 20164, 144: 20736, 146: 21316, 148: 21904, 150: 22500, 152: 23104, 154: 23716, 156: 24336, 158: 24964, 160: 25600, 162: 26244, 164: 26896, 166: 27556, 168: 28224, 170: 28900, 172: 29584, 174: 30276, 176: 30976, 178: 31684, 180: 32400, 182: 33124, 184: 33856, 186: 34596, 188: 35344, 190: 36100, 192: 36864, 194: 37636, 196: 38416, 198: 39204, 200: 40000}\n"
     ]
    }
   ],
   "source": [
    "dict1={}\n",
    "dict2={}\n",
    "\n",
    "for i in range(100,201):\n",
    "    if i%2==0:\n",
    "        dict2[i]=i*i\n",
    "    else:\n",
    "        dict1[i]=i*i\n",
    "ch= int(input('enter 1 for odd or 2 for even numbers'))\n",
    "if ch==1:\n",
    "    print(dict1)\n",
    "else:\n",
    "    print(dict2)"
   ]
  },
  {
   "cell_type": "markdown",
   "id": "998a6fac",
   "metadata": {},
   "source": [
    "# 4. Word Counter"
   ]
  },
  {
   "cell_type": "code",
   "execution_count": 42,
   "id": "bd9a4e55",
   "metadata": {},
   "outputs": [
    {
     "name": "stdout",
     "output_type": "stream",
     "text": [
      "enter texti am a data science student\n"
     ]
    },
    {
     "data": {
      "text/plain": [
       "{'i': 1, 'am': 2, 'a': 1, 'data': 4, 'science': 7, 'student': 7}"
      ]
     },
     "execution_count": 42,
     "metadata": {},
     "output_type": "execute_result"
    }
   ],
   "source": [
    "text= input('enter text')\n",
    "words= text.split()\n",
    "letter_words= {w:len(w) for w in words}\n",
    "letter_words"
   ]
  },
  {
   "cell_type": "markdown",
   "id": "7d5a4caa",
   "metadata": {},
   "source": [
    "# 5. Palindrome or not"
   ]
  },
  {
   "cell_type": "code",
   "execution_count": 46,
   "id": "95b91173",
   "metadata": {},
   "outputs": [
    {
     "name": "stdout",
     "output_type": "stream",
     "text": [
      "enter textracecar\n",
      "Palindrome\n"
     ]
    }
   ],
   "source": [
    "def isPalindrome(s):\n",
    "    return s==s[::-1]\n",
    "s= input('enter text')\n",
    "ans= isPalindrome(s)\n",
    "\n",
    "if ans:\n",
    "    print('Palindrome')\n",
    "else:\n",
    "    print('Not Palindrome')"
   ]
  },
  {
   "cell_type": "code",
   "execution_count": null,
   "id": "fc65123d",
   "metadata": {},
   "outputs": [],
   "source": []
  }
 ],
 "metadata": {
  "kernelspec": {
   "display_name": "Python 3 (ipykernel)",
   "language": "python",
   "name": "python3"
  },
  "language_info": {
   "codemirror_mode": {
    "name": "ipython",
    "version": 3
   },
   "file_extension": ".py",
   "mimetype": "text/x-python",
   "name": "python",
   "nbconvert_exporter": "python",
   "pygments_lexer": "ipython3",
   "version": "3.11.5"
  }
 },
 "nbformat": 4,
 "nbformat_minor": 5
}
